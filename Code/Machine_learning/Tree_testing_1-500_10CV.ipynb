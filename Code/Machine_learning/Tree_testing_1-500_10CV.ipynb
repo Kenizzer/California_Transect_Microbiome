{
 "cells": [
  {
   "cell_type": "code",
   "execution_count": 1,
   "metadata": {},
   "outputs": [
    {
     "name": "stderr",
     "output_type": "stream",
     "text": [
      "── \u001b[1mAttaching packages\u001b[22m ─────────────────────────────────────── tidyverse 1.3.1 ──\n",
      "\n",
      "\u001b[32m✔\u001b[39m \u001b[34mggplot2\u001b[39m 3.3.5     \u001b[32m✔\u001b[39m \u001b[34mpurrr  \u001b[39m 0.3.4\n",
      "\u001b[32m✔\u001b[39m \u001b[34mtibble \u001b[39m 3.1.5     \u001b[32m✔\u001b[39m \u001b[34mdplyr  \u001b[39m 1.0.7\n",
      "\u001b[32m✔\u001b[39m \u001b[34mtidyr  \u001b[39m 1.1.4     \u001b[32m✔\u001b[39m \u001b[34mstringr\u001b[39m 1.4.0\n",
      "\u001b[32m✔\u001b[39m \u001b[34mreadr  \u001b[39m 2.0.2     \u001b[32m✔\u001b[39m \u001b[34mforcats\u001b[39m 0.5.1\n",
      "\n",
      "── \u001b[1mConflicts\u001b[22m ────────────────────────────────────────── tidyverse_conflicts() ──\n",
      "\u001b[31m✖\u001b[39m \u001b[34mdplyr\u001b[39m::\u001b[32mfilter()\u001b[39m masks \u001b[34mstats\u001b[39m::filter()\n",
      "\u001b[31m✖\u001b[39m \u001b[34mdplyr\u001b[39m::\u001b[32mlag()\u001b[39m    masks \u001b[34mstats\u001b[39m::lag()\n",
      "\n"
     ]
    },
    {
     "data": {
      "text/plain": [
       "[1] ‘1.3.1’"
      ]
     },
     "metadata": {},
     "output_type": "display_data"
    },
    {
     "data": {
      "text/plain": [
       "[1] ‘1.36.0’"
      ]
     },
     "metadata": {},
     "output_type": "display_data"
    },
    {
     "data": {
      "text/plain": [
       "[1] ‘0.4.0’"
      ]
     },
     "metadata": {},
     "output_type": "display_data"
    },
    {
     "name": "stderr",
     "output_type": "stream",
     "text": [
      "Loading required package: permute\n",
      "\n",
      "Loading required package: lattice\n",
      "\n",
      "This is vegan 2.5-7\n",
      "\n"
     ]
    },
    {
     "data": {
      "text/plain": [
       "[1] ‘2.5.7’"
      ]
     },
     "metadata": {},
     "output_type": "display_data"
    },
    {
     "name": "stderr",
     "output_type": "stream",
     "text": [
      "\n",
      "Attaching package: ‘MASS’\n",
      "\n",
      "\n",
      "The following object is masked from ‘package:dplyr’:\n",
      "\n",
      "    select\n",
      "\n",
      "\n"
     ]
    },
    {
     "data": {
      "text/plain": [
       "[1] ‘7.3.54’"
      ]
     },
     "metadata": {},
     "output_type": "display_data"
    },
    {
     "name": "stderr",
     "output_type": "stream",
     "text": [
      "\n",
      "Attaching package: ‘scales’\n",
      "\n",
      "\n",
      "The following object is masked from ‘package:purrr’:\n",
      "\n",
      "    discard\n",
      "\n",
      "\n",
      "The following object is masked from ‘package:readr’:\n",
      "\n",
      "    col_factor\n",
      "\n",
      "\n"
     ]
    },
    {
     "data": {
      "text/plain": [
       "[1] ‘1.1.1’"
      ]
     },
     "metadata": {},
     "output_type": "display_data"
    },
    {
     "name": "stderr",
     "output_type": "stream",
     "text": [
      "Loading required package: ape\n",
      "\n",
      "\n",
      "Attaching package: ‘ape’\n",
      "\n",
      "\n",
      "The following object is masked from ‘package:ggpubr’:\n",
      "\n",
      "    rotate\n",
      "\n",
      "\n",
      "Loading required package: nlme\n",
      "\n",
      "\n",
      "Attaching package: ‘nlme’\n",
      "\n",
      "\n",
      "The following object is masked from ‘package:dplyr’:\n",
      "\n",
      "    collapse\n",
      "\n",
      "\n"
     ]
    },
    {
     "data": {
      "text/plain": [
       "[1] ‘1.8.2’"
      ]
     },
     "metadata": {},
     "output_type": "display_data"
    },
    {
     "name": "stderr",
     "output_type": "stream",
     "text": [
      "\n",
      "Attaching package: ‘caret’\n",
      "\n",
      "\n",
      "The following object is masked from ‘package:vegan’:\n",
      "\n",
      "    tolerance\n",
      "\n",
      "\n",
      "The following object is masked from ‘package:purrr’:\n",
      "\n",
      "    lift\n",
      "\n",
      "\n"
     ]
    },
    {
     "data": {
      "text/plain": [
       "[1] ‘6.0.90’"
      ]
     },
     "metadata": {},
     "output_type": "display_data"
    },
    {
     "data": {
      "text/plain": [
       "[1] ‘1.1.7’"
      ]
     },
     "metadata": {},
     "output_type": "display_data"
    },
    {
     "data": {
      "text/plain": [
       "[1] ‘0.13.1’"
      ]
     },
     "metadata": {},
     "output_type": "display_data"
    },
    {
     "data": {
      "text/plain": [
       "[1] ‘1.7.9’"
      ]
     },
     "metadata": {},
     "output_type": "display_data"
    },
    {
     "name": "stderr",
     "output_type": "stream",
     "text": [
      "randomForest 4.6-14\n",
      "\n",
      "Type rfNews() to see new features/changes/bug fixes.\n",
      "\n",
      "\n",
      "Attaching package: ‘randomForest’\n",
      "\n",
      "\n",
      "The following object is masked from ‘package:ranger’:\n",
      "\n",
      "    importance\n",
      "\n",
      "\n",
      "The following object is masked from ‘package:dplyr’:\n",
      "\n",
      "    combine\n",
      "\n",
      "\n",
      "The following object is masked from ‘package:ggplot2’:\n",
      "\n",
      "    margin\n",
      "\n",
      "\n"
     ]
    },
    {
     "data": {
      "text/plain": [
       "[1] ‘4.6.14’"
      ]
     },
     "metadata": {},
     "output_type": "display_data"
    },
    {
     "data": {
      "text/plain": [
       "[1] ‘0.1.2’"
      ]
     },
     "metadata": {},
     "output_type": "display_data"
    }
   ],
   "source": [
    "library('tidyverse'); packageVersion('tidyverse')\n",
    "library(\"phyloseq\"); packageVersion('phyloseq')\n",
    "library(\"ggpubr\"); packageVersion('ggpubr')\n",
    "library(\"vegan\"); packageVersion('vegan')\n",
    "library(\"MASS\"); packageVersion('MASS')\n",
    "library(\"scales\"); packageVersion('scales')\n",
    "library(\"picante\"); packageVersion('picante')\n",
    "library(\"caret\"); packageVersion('caret')\n",
    "library(\"AppliedPredictiveModeling\"); packageVersion('AppliedPredictiveModeling')\n",
    "library(\"ranger\"); packageVersion('ranger')\n",
    "library(\"e1071\"); packageVersion('e1071')\n",
    "library(\"randomForest\"); packageVersion('randomForest')\n",
    "library(\"alluvial\"); packageVersion('alluvial')"
   ]
  },
  {
   "cell_type": "code",
   "execution_count": 2,
   "metadata": {},
   "outputs": [],
   "source": [
    "# Theme set and Color Palettes\n",
    "theme_set(theme_pubr())\n",
    "rootstock_palette <- c('#1b9e77', '#f0a4af', '#7570b3')\n",
    "scion_palette <- c('#ed254e', '#0e79b2')\n",
    "site_palette <- c('#e6ab02', '#281c39', '#12664c')\n",
    "compartment_palette <- c(\"#5a1991\", \"#139d08\", \"#5c3c0d\") #https://lospec.com/palette-list/famicube\n",
    "safe_colorblind_palette <- c(\"#88CCEE\", \"#CC6677\", \"#DDCC77\", \"#AA4499\", \"#332288\", \"#117733\", \n",
    "                             \"#661100\", \"#999933\", \"#44AA99\", \"#882255\", \"#6699CC\", \"#888888\")\n",
    "# Set seed for analysis\n",
    "set.seed(1154829343)"
   ]
  },
  {
   "cell_type": "code",
   "execution_count": 3,
   "metadata": {},
   "outputs": [],
   "source": [
    "# Functions\n",
    "# Function to return metadata df from phyloseq object\n",
    "pssd2veg <- function(physeq) {\n",
    "  # From a phyloseq object return a dataframe of the sample metadata for use in vegan\n",
    "  # From: https://jacobrprice.github.io/2017/08/26/phyloseq-to-vegan-and-back.html\n",
    "  sd <- sample_data(physeq)\n",
    "  return(as(sd,\"data.frame\"))\n",
    "}\n",
    "# Function to plot or run a linear model on a ASV from a phyloseq object\n",
    "plot_deseq2_DiffAbunMicob <- function(physeq_obj, ASV_number){\n",
    "  temp_sample_tab <- pssd2veg(physeq_obj)\n",
    "  otu_matrix <- as(otu_table(physeq_obj), \"matrix\")\n",
    "  TEMP <- data.frame(ASV_count = otu_matrix[ASV_number,])\n",
    "  TEMP2<- cbind(temp_sample_tab, TEMP)\n",
    "  #Anova(lm(ASV_count ~ Compartment*Rootstock + Compartment*Irrigation + Rootstock*Irrigation + Block, data = TEMP2), type = \"III\")\n",
    "  ggplot(TEMP2, aes(plant_body_site, ASV_count, fill= rootstock)) + geom_boxplot(outlier.shape = NA) + geom_point(position = position_jitterdodge(jitter.width = 0.2)) + scale_fill_manual(name = \"Rootstock\", values=rootstock_palette) + scale_y_continuous(name=\"Abundance\") + xlab(\"Compartment\") + theme(legend.position=\"right\", axis.title = element_text(size = 14), axis.text = element_text(size = 12), plot.title = element_text(size=22))\n",
    "}\n",
    "\n",
    "# Function to plot confusion matrix using ggtile plot from a confussion matrix object\n",
    "# By user: Enrique Perez Herrero \n",
    "# on https://stackoverflow.com/questions/46063234/how-to-produce-a-confusion-matrix-and-find-the-misclassification-rate-of-the-na%C3%AF\n",
    "ggplotConfusionMatrix <- function(m){\n",
    "  mytitle <- paste(\"Accuracy\", percent_format()(m$overall[1]),\n",
    "                   \"Kappa\", percent_format()(m$overall[2]))\n",
    "  \n",
    "  d <- as.data.frame.matrix(m$table)\n",
    "  drn <- colnames(d)\n",
    "  drr <- rownames(d)\n",
    "  drs <- rowSums(d)\n",
    "  d <- d %>% mutate_if(is.numeric, funs(./drs))\n",
    "  d <- d %>% gather(x, value)\n",
    "  Y <- cbind(as.data.frame(m$table), Proportion = d$value)\n",
    "  Y$Reference <- fct_rev(Y$Reference) # Added this line to get a downward diagonal \n",
    "  p <-\n",
    "    ggplot(data = Y, aes(x = Reference, y = Prediction, fill= Proportion)) +\n",
    "    geom_tile( colour = \"white\") +\n",
    "    scale_fill_gradient(low = \"white\", high = \"#14A02E\", na.value = \"white\", limits=c(0,1)) +\n",
    "    ggtitle(mytitle) +\n",
    "    theme(legend.position = \"right\", axis.text.x = element_text(angle = 60, hjust = 1)) +\n",
    "    guides(fill = guide_colorbar(frame.colour = \"black\", ticks = FALSE))\n",
    "  return(p)\n",
    "}"
   ]
  },
  {
   "cell_type": "code",
   "execution_count": 5,
   "metadata": {},
   "outputs": [],
   "source": [
    "# HERE THE FUNCTION FOR MLing\n",
    "\n",
    "# In case I want interactions\n",
    "# Example below\n",
    "# Compartment_Rootstock = paste(ASV_metadata.df$plant_body_site, ASV_metadata.df$rootstock, sep = \"_\"),\n",
    "\n",
    "\n",
    "MachineLearning_RF_ranger <- function(PHYSEQ_OBJ_1, GROUPING, TREES) {\n",
    "    # Remove ASV Table and meta data from phyloseq objects\n",
    "    ASV.df <- as.data.frame(otu_table(PHYSEQ_OBJ_1))\n",
    "    ASV_metadata.df <- as.data.frame(sample_data(PHYSEQ_OBJ_1))\n",
    "    # Format ASV table to be used for machine learning applications and make metadata df\n",
    "    ASV.df <- t(ASV.df)\n",
    "    ASV_meta.df <- data.frame(Sample = rownames(ASV_metadata.df), Year = ASV_metadata.df$year, Scion = ASV_metadata.df$scion, \n",
    "                              Rootstock = ASV_metadata.df$rootstock, Compartment = ASV_metadata.df$plant_body_site, Site = ASV_metadata.df$site,\n",
    "                              Brix = ASV_metadata.df$brix_2_breaks, \n",
    "                              Compartment_Rootstock = paste(ASV_metadata.df$plant_body_site, ASV_metadata.df$rootstock, sep = \"_\"))\n",
    "    ASV_prefiltered.df <- cbind(ASV.df, ASV_meta.df)\n",
    "    # ~80:20 split train/test datasets while respecting groups (i.e. sampling the same number of samples from each label)\n",
    "    # 594 total samples * 0.8 = 474\n",
    "    # 474/Factor level = sample_n(#)\n",
    "    # e.g. for compartment 474/3 = 158\n",
    "    ### DUE TO THE DESIGN FOR SOME OF THE FACTORS BEING IMBALANCED I AM JUST GOING TO TAKE A RANDOM 80/20 SPLIT. ####\n",
    "    #if ((GROUPING) == \"Compartment\"){\n",
    "    #  train_index <- as.data.frame(ASV_prefiltered.df %>% group_by_(GROUPING) %>% sample_n(158))\n",
    "    #} else if ((GROUPING) == \"Site\"){\n",
    "    #  train_index <- as.data.frame(ASV_prefiltered.df %>% group_by_(GROUPING) %>% sample_n(158))\n",
    "    #} else if ((GROUPING) == \"Scion\"){\n",
    "    #  train_index <- as.data.frame(ASV_prefiltered.df %>% group_by_(GROUPING) %>% sample_n(237))\n",
    "    #} else if ((GROUPING) == \"Year\"){\n",
    "    #  train_index <- as.data.frame(ASV_prefiltered.df %>% group_by_(GROUPING) %>% sample_n(237))\n",
    "    #} else if ((GROUPING) == \"Rootstock\"){\n",
    "    #  train_index <- as.data.frame(ASV_prefiltered.df %>% group_by_(GROUPING) %>% sample_n(158))\n",
    "    #}\n",
    "    train_index <- as.data.frame(ASV_prefiltered.df %>% sample_n(475))\n",
    "    rownames(train_index) <- train_index$Sample\n",
    "    train_index <- match(rownames(train_index), rownames(ASV_prefiltered.df))\n",
    "    train_x <- as.data.frame(ASV.df[train_index, ])\n",
    "    test_y <- as.data.frame(ASV.df[-train_index, ])\n",
    "    # Train set, 475\n",
    "    train_x$Sample <- rownames(train_x)\n",
    "    Training_meta.df <- merge(train_x, ASV_meta.df, by = 'Sample')\n",
    "    train_x <- subset(Training_meta.df, select = -c(Compartment, Site, Scion, Year, Rootstock, Compartment_Rootstock, Brix))\n",
    "    rownames(train_x) <- train_x$Sample\n",
    "    train_x <- subset(train_x, select = -c(Sample))\n",
    "    Training_meta.df <- subset(Training_meta.df, select = c(Compartment, Site, Scion, Year, Rootstock, Compartment_Rootstock, Brix))\n",
    "    rownames(Training_meta.df) <- Training_meta.df$Sample \n",
    "    # Test set, 119 samples\n",
    "    test_y$Sample <- rownames(test_y)\n",
    "    Testing_meta.df <- merge(test_y, ASV_meta.df, by = \"Sample\")\n",
    "    test_y <- subset(Testing_meta.df, select = -c(Compartment, Site, Scion, Year, Rootstock, Compartment_Rootstock, Brix))\n",
    "    rownames(test_y) <- test_y$Sample\n",
    "    test_y <- subset(test_y, select = -c(Sample))\n",
    "    Testing_meta.df <- subset(Testing_meta.df, select = c(Compartment, Site, Scion, Year, Rootstock, Compartment_Rootstock, Brix))\n",
    "    rownames(Testing_meta.df) <- Testing_meta.df$Sample \n",
    "    # Training model\n",
    "    Training_grid <- expand.grid(.mtry = seq(10, length(train_x), round(length(train_x)*0.1)), .splitrule= \"gini\",\n",
    "                                 .min.node.size = c(1, 5, 10))\n",
    "    train_control <- trainControl(method=\"cv\", number=10)\n",
    "    RF_CM <- list()\n",
    "    RF_CM[[\"RF_model\"]] <- train(x = train_x, y = Training_meta.df[[GROUPING]], method = \"ranger\", importance = \"impurity\",\n",
    "                                 tuneGrid = Training_grid, trControl = train_control, num.trees = TREES)\n",
    "    RF_prediction_3 <- predict(RF_CM[[\"RF_model\"]], test_y)\n",
    "    RF_CM[[\"CMatrix\"]] <- confusionMatrix(RF_prediction_3, as.factor(Testing_meta.df[[GROUPING]]), mode = \"everything\")\n",
    "    RF_CM[[\"CMatrixPLOT\"]] <- ggplotConfusionMatrix(RF_CM[[\"CMatrix\"]])\n",
    "    RF_CM[[\"VarImporance\"]] <- varImp(RF_CM[[\"RF_model\"]])\n",
    "    return(RF_CM)\n",
    "}"
   ]
  },
  {
   "cell_type": "code",
   "execution_count": 6,
   "metadata": {},
   "outputs": [
    {
     "data": {
      "text/plain": [
       "     barcode.sequence            LinkerPrimerSequence extraction_num\n",
       " AACACATGGGTT:  1     GTGTGYCAGCMGCCGCGGTAA:594       10     :  1   \n",
       " AACAGGTCTCTG:  1                                     100    :  1   \n",
       " AACATTGCAGGT:  1                                     101    :  1   \n",
       " AACGAATACCAC:  1                                     103    :  1   \n",
       " AACGACACGCTT:  1                                     104    :  1   \n",
       " AACGCGAAATTC:  1                                     105    :  1   \n",
       " (Other)     :588                                     (Other):588   \n",
       "  date_collect          extract_date col_week           block    \n",
       " Min.   :2018-06-19   11212019: 24   1:115    089 OLCESE 24: 44  \n",
       " 1st Qu.:2018-07-10   1302020 : 24   2:117    005 SEC D    : 43  \n",
       " Median :2018-08-01   7022020 : 24   4:123    103 SEC B    : 43  \n",
       " Mean   :2018-12-04   7072020 : 24   6:122    018 CARPENTER: 42  \n",
       " 3rd Qu.:2019-06-27   7092020 : 24   7:117    RIP 760      : 42  \n",
       " Max.   :2019-07-25   7302020 : 24            (Other)      :124  \n",
       "                      (Other) :450            NA's         :256  \n",
       "         site       upper_political    lower_political plant_body_site\n",
       " liberty   :256   california:594    madera     :166    berry:184      \n",
       " livingston:172                     merced     :172    leaf :204      \n",
       " ripperdan :166                     san joaquin:256    root :206      \n",
       "                                                                      \n",
       "                                                                      \n",
       "                                                                      \n",
       "                                                                      \n",
       "                scion            rootstock      DNA_conc      \n",
       " cabernet sauvignon:296   1103 Paulsen:169   Min.   :  1.060  \n",
       " chardonnay        :298   Freedom     :258   1st Qu.:  4.894  \n",
       "                          Teleki 5C   :167   Median :  8.787  \n",
       "                                             Mean   : 14.515  \n",
       "                                             3rd Qu.: 17.265  \n",
       "                                             Max.   :137.320  \n",
       "                                                              \n",
       "      A260            X260.230          X260.280         depth   \n",
       " Min.   :0.02120   Min.   : 0.0030   Min.   :0.450   Min.   :15  \n",
       " 1st Qu.:0.09905   1st Qu.: 0.0800   1st Qu.:1.270   1st Qu.:15  \n",
       " Median :0.17710   Median : 0.1600   Median :1.580   Median :15  \n",
       " Mean   :0.29113   Mean   : 0.3632   Mean   :1.557   Mean   :15  \n",
       " 3rd Qu.:0.34530   3rd Qu.: 0.3400   3rd Qu.:1.810   3rd Qu.:15  \n",
       " Max.   :2.74640   Max.   :10.3900   Max.   :6.080   Max.   :15  \n",
       "                                                                 \n",
       "      elev         leaf_temp_1      leaf_temp_2          brix       \n",
       " Min.   : 15.00   Min.   : 71.30   Min.   : 72.30   Min.   : 3.600  \n",
       " 1st Qu.: 15.00   1st Qu.: 85.70   1st Qu.: 85.90   1st Qu.: 4.700  \n",
       " Median : 40.00   Median : 90.70   Median : 91.10   Median : 5.500  \n",
       " Mean   : 69.47   Mean   : 90.56   Mean   : 91.21   Mean   : 9.217  \n",
       " 3rd Qu.:129.00   3rd Qu.: 95.50   3rd Qu.: 96.85   3rd Qu.:15.100  \n",
       " Max.   :129.00   Max.   :106.20   Max.   :107.90   Max.   :20.300  \n",
       "                                                                    \n",
       "              trellis_system vine_spacing orientation estab_year\n",
       " HIGHWIRE (Bilateral): 43    4x10: 42     E/W:255     1994:256  \n",
       " LIV. DIVIDED CANOPY : 85    5x11: 43     N/S:339     1995:125  \n",
       " Split               : 41    6x9 :170                 1996: 43  \n",
       " Two-wire vertical   :256    7x10:256                 2008: 41  \n",
       " Vertical            :125    7x11: 83                 2009: 42  \n",
       " VERTICAL            : 44                             2010: 44  \n",
       "                                                      2012: 43  \n",
       "  host_common_name host.height    host_life_stage   host_taxid \n",
       " grapevine:594     3:594       mature vine:594    29760Â :594  \n",
       "                                                               \n",
       "                                                               \n",
       "                                                               \n",
       "                                                               \n",
       "                                                               \n",
       "                                                               \n",
       "       samp_store_loc samp_store_temp samp_vol_we_dna_ext fertilizer_regm\n",
       " DDPSC freezer:594    -20C:355        150:594             Che-Plex:594   \n",
       "                      -80C:239                                           \n",
       "                                                                         \n",
       "                                                                         \n",
       "                                                                         \n",
       "                                                                         \n",
       "                                                                         \n",
       "                                                                                      fungicide_regm\n",
       " Topsin, Vivando, Pristine, Dusting sulfur, Vangard, Quintec, Torino, Rally, Elevate, Acoidal:594   \n",
       "                                                                                                    \n",
       "                                                                                                    \n",
       "                                                                                                    \n",
       "                                                                                                    \n",
       "                                                                                                    \n",
       "                                                                                                    \n",
       "                 insecticide_regm herbicide_regm   licor_log        hhmmss   \n",
       " Abacus, Altacor, Movento:594     Roundup:594    1      : 45   15.01.06:  6  \n",
       "                                                 5      : 41   15.43.47:  6  \n",
       "                                                 7      : 40   12.19.31:  3  \n",
       "                                                 9      : 40   12.24.17:  3  \n",
       "                                                 3      : 39   12.26.46:  3  \n",
       "                                                 11     : 38   12.31.06:  3  \n",
       "                                                 (Other):351   (Other) :570  \n",
       "       E                 gsw                  Ci               Tleaf      \n",
       " Min.   :0.000505   Min.   :  0.01784   Min.   :-35.8585   Min.   :32.75  \n",
       " 1st Qu.:0.002883   1st Qu.:  0.12561   1st Qu.:  0.2489   1st Qu.:32.99  \n",
       " Median :0.004562   Median :  0.26623   Median :170.1804   Median :33.10  \n",
       " Mean   :0.004922   Mean   : 95.01109   Mean   :124.1590   Mean   :33.50  \n",
       " 3rd Qu.:0.006357   3rd Qu.:229.70129   3rd Qu.:218.2259   3rd Qu.:33.51  \n",
       " Max.   :0.013459   Max.   :283.44796   Max.   :287.3157   Max.   :37.60  \n",
       "                                                                          \n",
       "     hhmmss_2        E_2               gsw_2                Ci_2         \n",
       " 15.43.47:  6   Min.   :0.000505   Min.   :  0.01784   Min.   :-35.8585  \n",
       " 12.24.08:  3   1st Qu.:0.002900   1st Qu.:  0.12561   1st Qu.:  0.2259  \n",
       " 12.27.38:  3   Median :0.004270   Median :  0.26623   Median :170.1804  \n",
       " 12.28.53:  3   Mean   :0.004725   Mean   : 93.92012   Mean   :124.1507  \n",
       " 12.33.15:  3   3rd Qu.:0.006141   3rd Qu.:226.82482   3rd Qu.:218.2259  \n",
       " 12.33.28:  3   Max.   :0.012680   Max.   :287.77428   Max.   :287.3157  \n",
       " (Other) :573                                                            \n",
       "    Tleaf_2      seq_plate Sample_or_Control   is.neg          year    \n",
       " Min.   :32.67   1  :147   Sample:594        Mode :logical   2018:355  \n",
       " 1st Qu.:32.99   1_3:166                     FALSE:594       2019:239  \n",
       " Median :33.09   2  :131                                               \n",
       " Mean   :33.45   2_3:150                                               \n",
       " 3rd Qu.:33.44                                                         \n",
       " Max.   :37.60                                                         \n",
       "                                                                       \n",
       " sequence_depth         brix_2_breaks\n",
       " Min.   :   1160   Pre-ripening:357  \n",
       " 1st Qu.:   6874   Ripening    :237  \n",
       " Median :  24378                     \n",
       " Mean   :  46277                     \n",
       " 3rd Qu.:  51874                     \n",
       " Max.   :2386143                     \n",
       "                                     "
      ]
     },
     "metadata": {},
     "output_type": "display_data"
    }
   ],
   "source": [
    "phy_vst <- readRDS(\"phyloseq_16s_no_soil_filtered_vst_dataset.rds\")\n",
    "phy_vst@sam_data$brix_2_breaks <- cut(phy_vst@sam_data$brix, breaks = c(-Inf, 7, Inf), labels = c(\"Pre-ripening\", \"Ripening\")) # Check if I want to use these terms\n",
    "summary(sample_data(phy_vst))"
   ]
  },
  {
   "cell_type": "code",
   "execution_count": null,
   "metadata": {},
   "outputs": [
    {
     "name": "stdout",
     "output_type": "stream",
     "text": [
      "[1] 1\n"
     ]
    },
    {
     "name": "stderr",
     "output_type": "stream",
     "text": [
      "Done with trees equal to1\n",
      "\n"
     ]
    },
    {
     "name": "stdout",
     "output_type": "stream",
     "text": [
      "[1] 3\n"
     ]
    },
    {
     "name": "stderr",
     "output_type": "stream",
     "text": [
      "Done with trees equal to3\n",
      "\n"
     ]
    },
    {
     "name": "stdout",
     "output_type": "stream",
     "text": [
      "[1] 5\n"
     ]
    },
    {
     "name": "stderr",
     "output_type": "stream",
     "text": [
      "Done with trees equal to5\n",
      "\n"
     ]
    },
    {
     "name": "stdout",
     "output_type": "stream",
     "text": [
      "[1] 7\n"
     ]
    },
    {
     "name": "stderr",
     "output_type": "stream",
     "text": [
      "Done with trees equal to7\n",
      "\n"
     ]
    },
    {
     "name": "stdout",
     "output_type": "stream",
     "text": [
      "[1] 9\n"
     ]
    },
    {
     "name": "stderr",
     "output_type": "stream",
     "text": [
      "Done with trees equal to9\n",
      "\n"
     ]
    },
    {
     "name": "stdout",
     "output_type": "stream",
     "text": [
      "[1] 11\n"
     ]
    },
    {
     "name": "stderr",
     "output_type": "stream",
     "text": [
      "Done with trees equal to11\n",
      "\n"
     ]
    },
    {
     "name": "stdout",
     "output_type": "stream",
     "text": [
      "[1] 13\n"
     ]
    },
    {
     "name": "stderr",
     "output_type": "stream",
     "text": [
      "Done with trees equal to13\n",
      "\n"
     ]
    },
    {
     "name": "stdout",
     "output_type": "stream",
     "text": [
      "[1] 15\n"
     ]
    },
    {
     "name": "stderr",
     "output_type": "stream",
     "text": [
      "Done with trees equal to15\n",
      "\n"
     ]
    },
    {
     "name": "stdout",
     "output_type": "stream",
     "text": [
      "[1] 17\n"
     ]
    },
    {
     "name": "stderr",
     "output_type": "stream",
     "text": [
      "Done with trees equal to17\n",
      "\n"
     ]
    },
    {
     "name": "stdout",
     "output_type": "stream",
     "text": [
      "[1] 19\n"
     ]
    },
    {
     "name": "stderr",
     "output_type": "stream",
     "text": [
      "Done with trees equal to19\n",
      "\n"
     ]
    },
    {
     "name": "stdout",
     "output_type": "stream",
     "text": [
      "[1] 21\n"
     ]
    },
    {
     "name": "stderr",
     "output_type": "stream",
     "text": [
      "Done with trees equal to21\n",
      "\n"
     ]
    },
    {
     "name": "stdout",
     "output_type": "stream",
     "text": [
      "[1] 23\n"
     ]
    },
    {
     "name": "stderr",
     "output_type": "stream",
     "text": [
      "Done with trees equal to23\n",
      "\n"
     ]
    },
    {
     "name": "stdout",
     "output_type": "stream",
     "text": [
      "[1] 25\n"
     ]
    },
    {
     "name": "stderr",
     "output_type": "stream",
     "text": [
      "Done with trees equal to25\n",
      "\n"
     ]
    },
    {
     "name": "stdout",
     "output_type": "stream",
     "text": [
      "[1] 27\n"
     ]
    },
    {
     "name": "stderr",
     "output_type": "stream",
     "text": [
      "Done with trees equal to27\n",
      "\n"
     ]
    },
    {
     "name": "stdout",
     "output_type": "stream",
     "text": [
      "[1] 29\n"
     ]
    },
    {
     "name": "stderr",
     "output_type": "stream",
     "text": [
      "Done with trees equal to29\n",
      "\n"
     ]
    },
    {
     "name": "stdout",
     "output_type": "stream",
     "text": [
      "[1] 31\n"
     ]
    },
    {
     "name": "stderr",
     "output_type": "stream",
     "text": [
      "Done with trees equal to31\n",
      "\n"
     ]
    },
    {
     "name": "stdout",
     "output_type": "stream",
     "text": [
      "[1] 33\n"
     ]
    },
    {
     "name": "stderr",
     "output_type": "stream",
     "text": [
      "Done with trees equal to33\n",
      "\n"
     ]
    },
    {
     "name": "stdout",
     "output_type": "stream",
     "text": [
      "[1] 35\n"
     ]
    },
    {
     "name": "stderr",
     "output_type": "stream",
     "text": [
      "Done with trees equal to35\n",
      "\n"
     ]
    },
    {
     "name": "stdout",
     "output_type": "stream",
     "text": [
      "[1] 37\n"
     ]
    },
    {
     "name": "stderr",
     "output_type": "stream",
     "text": [
      "Done with trees equal to37\n",
      "\n"
     ]
    },
    {
     "name": "stdout",
     "output_type": "stream",
     "text": [
      "[1] 39\n"
     ]
    },
    {
     "name": "stderr",
     "output_type": "stream",
     "text": [
      "Done with trees equal to39\n",
      "\n"
     ]
    },
    {
     "name": "stdout",
     "output_type": "stream",
     "text": [
      "[1] 41\n"
     ]
    },
    {
     "name": "stderr",
     "output_type": "stream",
     "text": [
      "Done with trees equal to41\n",
      "\n"
     ]
    },
    {
     "name": "stdout",
     "output_type": "stream",
     "text": [
      "[1] 43\n"
     ]
    },
    {
     "name": "stderr",
     "output_type": "stream",
     "text": [
      "Done with trees equal to43\n",
      "\n"
     ]
    },
    {
     "name": "stdout",
     "output_type": "stream",
     "text": [
      "[1] 45\n"
     ]
    },
    {
     "name": "stderr",
     "output_type": "stream",
     "text": [
      "Done with trees equal to45\n",
      "\n"
     ]
    },
    {
     "name": "stdout",
     "output_type": "stream",
     "text": [
      "[1] 47\n"
     ]
    },
    {
     "name": "stderr",
     "output_type": "stream",
     "text": [
      "Done with trees equal to47\n",
      "\n"
     ]
    },
    {
     "name": "stdout",
     "output_type": "stream",
     "text": [
      "[1] 49\n"
     ]
    },
    {
     "name": "stderr",
     "output_type": "stream",
     "text": [
      "Done with trees equal to49\n",
      "\n"
     ]
    },
    {
     "name": "stdout",
     "output_type": "stream",
     "text": [
      "[1] 51\n"
     ]
    },
    {
     "name": "stderr",
     "output_type": "stream",
     "text": [
      "Done with trees equal to51\n",
      "\n"
     ]
    },
    {
     "name": "stdout",
     "output_type": "stream",
     "text": [
      "[1] 53\n"
     ]
    },
    {
     "name": "stderr",
     "output_type": "stream",
     "text": [
      "Done with trees equal to53\n",
      "\n"
     ]
    },
    {
     "name": "stdout",
     "output_type": "stream",
     "text": [
      "[1] 55\n"
     ]
    },
    {
     "name": "stderr",
     "output_type": "stream",
     "text": [
      "Done with trees equal to55\n",
      "\n"
     ]
    },
    {
     "name": "stdout",
     "output_type": "stream",
     "text": [
      "[1] 57\n"
     ]
    },
    {
     "name": "stderr",
     "output_type": "stream",
     "text": [
      "Done with trees equal to57\n",
      "\n"
     ]
    },
    {
     "name": "stdout",
     "output_type": "stream",
     "text": [
      "[1] 59\n"
     ]
    },
    {
     "name": "stderr",
     "output_type": "stream",
     "text": [
      "Done with trees equal to59\n",
      "\n"
     ]
    },
    {
     "name": "stdout",
     "output_type": "stream",
     "text": [
      "[1] 61\n"
     ]
    },
    {
     "name": "stderr",
     "output_type": "stream",
     "text": [
      "Done with trees equal to61\n",
      "\n"
     ]
    },
    {
     "name": "stdout",
     "output_type": "stream",
     "text": [
      "[1] 63\n"
     ]
    },
    {
     "name": "stderr",
     "output_type": "stream",
     "text": [
      "Done with trees equal to63\n",
      "\n"
     ]
    },
    {
     "name": "stdout",
     "output_type": "stream",
     "text": [
      "[1] 65\n"
     ]
    },
    {
     "name": "stderr",
     "output_type": "stream",
     "text": [
      "Done with trees equal to65\n",
      "\n"
     ]
    },
    {
     "name": "stdout",
     "output_type": "stream",
     "text": [
      "[1] 67\n"
     ]
    },
    {
     "name": "stderr",
     "output_type": "stream",
     "text": [
      "Done with trees equal to67\n",
      "\n"
     ]
    },
    {
     "name": "stdout",
     "output_type": "stream",
     "text": [
      "[1] 69\n"
     ]
    },
    {
     "name": "stderr",
     "output_type": "stream",
     "text": [
      "Done with trees equal to69\n",
      "\n"
     ]
    },
    {
     "name": "stdout",
     "output_type": "stream",
     "text": [
      "[1] 71\n"
     ]
    },
    {
     "name": "stderr",
     "output_type": "stream",
     "text": [
      "Done with trees equal to71\n",
      "\n"
     ]
    },
    {
     "name": "stdout",
     "output_type": "stream",
     "text": [
      "[1] 73\n"
     ]
    },
    {
     "name": "stderr",
     "output_type": "stream",
     "text": [
      "Done with trees equal to73\n",
      "\n"
     ]
    },
    {
     "name": "stdout",
     "output_type": "stream",
     "text": [
      "[1] 75\n"
     ]
    },
    {
     "name": "stderr",
     "output_type": "stream",
     "text": [
      "Done with trees equal to75\n",
      "\n"
     ]
    },
    {
     "name": "stdout",
     "output_type": "stream",
     "text": [
      "[1] 77\n"
     ]
    },
    {
     "name": "stderr",
     "output_type": "stream",
     "text": [
      "Done with trees equal to77\n",
      "\n"
     ]
    },
    {
     "name": "stdout",
     "output_type": "stream",
     "text": [
      "[1] 79\n"
     ]
    },
    {
     "name": "stderr",
     "output_type": "stream",
     "text": [
      "Done with trees equal to79\n",
      "\n"
     ]
    },
    {
     "name": "stdout",
     "output_type": "stream",
     "text": [
      "[1] 81\n"
     ]
    },
    {
     "name": "stderr",
     "output_type": "stream",
     "text": [
      "Done with trees equal to81\n",
      "\n"
     ]
    },
    {
     "name": "stdout",
     "output_type": "stream",
     "text": [
      "[1] 83\n"
     ]
    },
    {
     "name": "stderr",
     "output_type": "stream",
     "text": [
      "Done with trees equal to83\n",
      "\n"
     ]
    },
    {
     "name": "stdout",
     "output_type": "stream",
     "text": [
      "[1] 85\n"
     ]
    },
    {
     "name": "stderr",
     "output_type": "stream",
     "text": [
      "Done with trees equal to85\n",
      "\n"
     ]
    },
    {
     "name": "stdout",
     "output_type": "stream",
     "text": [
      "[1] 87\n"
     ]
    },
    {
     "name": "stderr",
     "output_type": "stream",
     "text": [
      "Done with trees equal to87\n",
      "\n"
     ]
    },
    {
     "name": "stdout",
     "output_type": "stream",
     "text": [
      "[1] 89\n"
     ]
    },
    {
     "name": "stderr",
     "output_type": "stream",
     "text": [
      "Done with trees equal to89\n",
      "\n"
     ]
    },
    {
     "name": "stdout",
     "output_type": "stream",
     "text": [
      "[1] 91\n"
     ]
    },
    {
     "name": "stderr",
     "output_type": "stream",
     "text": [
      "Done with trees equal to91\n",
      "\n"
     ]
    },
    {
     "name": "stdout",
     "output_type": "stream",
     "text": [
      "[1] 93\n"
     ]
    },
    {
     "name": "stderr",
     "output_type": "stream",
     "text": [
      "Done with trees equal to93\n",
      "\n"
     ]
    },
    {
     "name": "stdout",
     "output_type": "stream",
     "text": [
      "[1] 95\n"
     ]
    },
    {
     "name": "stderr",
     "output_type": "stream",
     "text": [
      "Done with trees equal to95\n",
      "\n"
     ]
    },
    {
     "name": "stdout",
     "output_type": "stream",
     "text": [
      "[1] 97\n"
     ]
    },
    {
     "name": "stderr",
     "output_type": "stream",
     "text": [
      "Done with trees equal to97\n",
      "\n"
     ]
    },
    {
     "name": "stdout",
     "output_type": "stream",
     "text": [
      "[1] 99\n"
     ]
    },
    {
     "name": "stderr",
     "output_type": "stream",
     "text": [
      "Done with trees equal to99\n",
      "\n"
     ]
    },
    {
     "name": "stdout",
     "output_type": "stream",
     "text": [
      "[1] 101\n"
     ]
    },
    {
     "name": "stderr",
     "output_type": "stream",
     "text": [
      "Done with trees equal to101\n",
      "\n"
     ]
    },
    {
     "name": "stdout",
     "output_type": "stream",
     "text": [
      "[1] 103\n"
     ]
    },
    {
     "name": "stderr",
     "output_type": "stream",
     "text": [
      "Done with trees equal to103\n",
      "\n"
     ]
    },
    {
     "name": "stdout",
     "output_type": "stream",
     "text": [
      "[1] 105\n"
     ]
    },
    {
     "name": "stderr",
     "output_type": "stream",
     "text": [
      "Done with trees equal to105\n",
      "\n"
     ]
    },
    {
     "name": "stdout",
     "output_type": "stream",
     "text": [
      "[1] 107\n"
     ]
    },
    {
     "name": "stderr",
     "output_type": "stream",
     "text": [
      "Done with trees equal to107\n",
      "\n"
     ]
    },
    {
     "name": "stdout",
     "output_type": "stream",
     "text": [
      "[1] 109\n"
     ]
    },
    {
     "name": "stderr",
     "output_type": "stream",
     "text": [
      "Done with trees equal to109\n",
      "\n"
     ]
    },
    {
     "name": "stdout",
     "output_type": "stream",
     "text": [
      "[1] 111\n"
     ]
    },
    {
     "name": "stderr",
     "output_type": "stream",
     "text": [
      "Done with trees equal to111\n",
      "\n"
     ]
    },
    {
     "name": "stdout",
     "output_type": "stream",
     "text": [
      "[1] 113\n"
     ]
    },
    {
     "name": "stderr",
     "output_type": "stream",
     "text": [
      "Done with trees equal to113\n",
      "\n"
     ]
    },
    {
     "name": "stdout",
     "output_type": "stream",
     "text": [
      "[1] 115\n"
     ]
    },
    {
     "name": "stderr",
     "output_type": "stream",
     "text": [
      "Done with trees equal to115\n",
      "\n"
     ]
    },
    {
     "name": "stdout",
     "output_type": "stream",
     "text": [
      "[1] 117\n"
     ]
    },
    {
     "name": "stderr",
     "output_type": "stream",
     "text": [
      "Done with trees equal to117\n",
      "\n"
     ]
    },
    {
     "name": "stdout",
     "output_type": "stream",
     "text": [
      "[1] 119\n"
     ]
    }
   ],
   "source": [
    "datalist = c()\n",
    "\n",
    "for (i in seq(1, 501, by = 2)){\n",
    "    print(i)\n",
    "    # Run models\n",
    "    RF_1.1 <- MachineLearning_RF_ranger(phy_vst, \"Site\", TREES = i)\n",
    "    RF_1.2 <- MachineLearning_RF_ranger(phy_vst, \"Rootstock\", TREES = i)\n",
    "    RF_1.3 <- MachineLearning_RF_ranger(phy_vst, \"Compartment\", TREES = i)\n",
    "    RF_1.4 <- MachineLearning_RF_ranger(phy_vst, \"Year\", TREES = i)\n",
    "    RF_1.5 <-MachineLearning_RF_ranger(phy_vst, \"Scion\", TREES = i)\n",
    "    RF_1.6 <-MachineLearning_RF_ranger(phy_vst, \"Brix\", TREES = i)\n",
    "\n",
    "    # Record error rate of models\n",
    "    X <- 1 - max(RF_1.1[\"RF_model\"][[1]]$results$Accuracy)\n",
    "    X <- rbind(X, 1 - max(RF_1.2[\"RF_model\"][[1]]$results$Accuracy))\n",
    "    X <- rbind(X, 1 - max(RF_1.3[\"RF_model\"][[1]]$results$Accuracy))\n",
    "    X <- rbind(X, 1 - max(RF_1.4[\"RF_model\"][[1]]$results$Accuracy))\n",
    "    X <- rbind(X, 1 - max(RF_1.5[\"RF_model\"][[1]]$results$Accuracy))\n",
    "    X <- rbind(X, 1 - max(RF_1.6[\"RF_model\"][[1]]$results$Accuracy))\n",
    "    \n",
    "    \n",
    "    rownames(X) <- c(\"RF1.1\", \"RF1.2\", \"RF1.3\", \"RF1.4\", \"RF1.5\", \"RF1.6\")\n",
    "    datalist[[i]] <- X\n",
    "    message(\"Done with trees equal to\", i)\n",
    "}\n",
    "\n",
    "save(datalist, file=\"NumTree_OBBerror_6models.Rda\")"
   ]
  }
 ],
 "metadata": {
  "kernelspec": {
   "display_name": "R",
   "language": "R",
   "name": "ir"
  },
  "language_info": {
   "codemirror_mode": "r",
   "file_extension": ".r",
   "mimetype": "text/x-r-source",
   "name": "R",
   "pygments_lexer": "r",
   "version": "4.1.1"
  }
 },
 "nbformat": 4,
 "nbformat_minor": 4
}
